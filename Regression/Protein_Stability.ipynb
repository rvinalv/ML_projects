{
  "nbformat": 4,
  "nbformat_minor": 0,
  "metadata": {
    "colab": {
      "provenance": [],
      "toc_visible": true
    },
    "kernelspec": {
      "name": "python3",
      "display_name": "Python 3"
    },
    "language_info": {
      "name": "python"
    }
  },
  "cells": [
    {
      "cell_type": "markdown",
      "source": [
        "# Importing and installing required libraries"
      ],
      "metadata": {
        "id": "povJWotRGOpq"
      }
    },
    {
      "cell_type": "code",
      "execution_count": null,
      "metadata": {
        "id": "489gsgIFGLtk"
      },
      "outputs": [],
      "source": [
        "import pandas as pd\n",
        "import numpy as np\n",
        "import seaborn as sns\n",
        "import matplotlib.pyplot as plt\n",
        "from sklearn.model_selection import train_test_split, RandomizedSearchCV, GridSearchCV\n",
        "from sklearn.metrics import mean_absolute_error, mean_squared_error, r2_score\n",
        "from sklearn.impute import SimpleImputer\n",
        "import re\n",
        "import math\n",
        "from sklearn.ensemble import RandomForestRegressor\n",
        "!pip install biopython\n",
        "from Bio.SeqUtils.ProtParam import ProteinAnalysis"
      ]
    },
    {
      "cell_type": "markdown",
      "source": [
        "# Importing data"
      ],
      "metadata": {
        "id": "HXuVQB47IrU2"
      }
    },
    {
      "cell_type": "code",
      "source": [
        "data = pd.read_csv('Data.csv')\n",
        "data.head()"
      ],
      "metadata": {
        "id": "BCaBM0DuI7zJ"
      },
      "execution_count": null,
      "outputs": []
    },
    {
      "cell_type": "markdown",
      "source": [
        "#EDA"
      ],
      "metadata": {
        "id": "LZ1loVelJGvI"
      }
    },
    {
      "cell_type": "code",
      "source": [
        "Data.info()"
      ],
      "metadata": {
        "id": "nt7ly5rqJHmu"
      },
      "execution_count": null,
      "outputs": []
    },
    {
      "cell_type": "code",
      "source": [
        "Data.describe().T"
      ],
      "metadata": {
        "id": "ePIWLLi7JJWO"
      },
      "execution_count": null,
      "outputs": []
    },
    {
      "cell_type": "code",
      "source": [
        "Data.isnull().sum()"
      ],
      "metadata": {
        "id": "3E3hKxeXJLGp"
      },
      "execution_count": null,
      "outputs": []
    },
    {
      "cell_type": "markdown",
      "source": [
        "# Data prepration"
      ],
      "metadata": {
        "id": "nYjyCgyXJRE6"
      }
    },
    {
      "cell_type": "code",
      "source": [
        "Data.drop(['data_source', 'seq_id'], axis = 1, inplace = True)\n",
        "Data.dropna(inplace = True)"
      ],
      "metadata": {
        "id": "LfH5ck-PJNbu"
      },
      "execution_count": null,
      "outputs": []
    },
    {
      "cell_type": "markdown",
      "source": [
        "Let's calculate the lenth of protein sequences"
      ],
      "metadata": {
        "id": "puSRux5mJb8n"
      }
    },
    {
      "cell_type": "code",
      "source": [
        "Data['protein_length'] = Data['protein_sequence'].apply(lambda x: len(x))"
      ],
      "metadata": {
        "id": "vSLh-xQoJU6n"
      },
      "execution_count": null,
      "outputs": []
    },
    {
      "cell_type": "code",
      "source": [
        "amino_count = Data['protein_sequence'].str.split('').explode('protein_sequence').value_counts().drop('')\n",
        "amino_acids = list(amino_count.index)"
      ],
      "metadata": {
        "id": "QGh5tHoXMNY3"
      },
      "execution_count": null,
      "outputs": []
    },
    {
      "cell_type": "code",
      "source": [
        "def return_amino_acid_df(df, ac):\n",
        "  # Normalize each amino acids\n",
        "  for i in ac:\n",
        "    df[i]=df['protein_sequence'].str.count(i,re.I)/df['protein_length']\n",
        "  return df"
      ],
      "metadata": {
        "id": "tqV55MZoMn1t"
      },
      "execution_count": null,
      "outputs": []
    },
    {
      "cell_type": "code",
      "source": [
        "Data = return_amino_acid_df(Data, amino_acids)"
      ],
      "metadata": {
        "id": "EBbcYR9yMvu9"
      },
      "execution_count": null,
      "outputs": []
    },
    {
      "cell_type": "code",
      "source": [
        "# PhysioChemical Properties of Amino acids\n",
        "\n",
        "#Aromaticity\n",
        "def calculate_aromaticity(row):\n",
        "  sequence = str(row[0])\n",
        "  X = ProteinAnalysis(sequence)\n",
        "  return \"%0.2f\" % X.aromaticity()\n",
        "\n",
        "#Molecular Weight\n",
        "def calculate_molecular_weight(row):\n",
        "  sequence = str(row[0])\n",
        "  X = ProteinAnalysis(sequence)\n",
        "  return \"%0.2f\" % X.molecular_weight()\n",
        "\n",
        "#Instability Index\n",
        "def calculate_instability_index(row):\n",
        "  sequence = str(row[0])\n",
        "  X = ProteinAnalysis(sequence)\n",
        "  return \"%0.2f\" % X.instability_index()\n",
        "\n",
        "#Hydrophobicity\n",
        "def calculate_hydrophobicity(row):\n",
        "  sequence = str(row[0])\n",
        "  X = ProteinAnalysis(sequence)\n",
        "  return \"%0.2f\" % X.gravy(scale='KyteDoolitle')\n",
        "\n",
        "#Isoelectric Point\n",
        "def calculate_isoelectric_point(row):\n",
        "  sequence = str(row[0])\n",
        "  X = ProteinAnalysis(sequence)\n",
        "  return \"%0.2f\" % X.isoelectric_point()\n",
        "\n",
        "#Charge\n",
        "def calculate_charge(row):\n",
        "  sequence = str(row[0])\n",
        "  X = ProteinAnalysis(sequence)\n",
        "  return \"%0.2f\" % X.charge_at_pH(row[1])"
      ],
      "metadata": {
        "id": "oE2QSOxGMyfH"
      },
      "execution_count": null,
      "outputs": []
    },
    {
      "cell_type": "code",
      "source": [
        "Data['Aromaticity'] = Data.apply(calculate_aromaticity, axis=1)\n",
        "Data['Molecular Weight'] = Data.apply(calculate_molecular_weight, axis=1)\n",
        "Data['Instability Index'] = Data.apply(calculate_instability_index, axis=1)\n",
        "Data['Hydrophobicity'] = Data.apply(calculate_hydrophobicity, axis=1)\n",
        "Data['Isoelectric Point'] = Data.apply(calculate_isoelectric_point, axis=1)\n",
        "Data['Charge'] = Data.apply(calculate_charge, axis=1)"
      ],
      "metadata": {
        "id": "x3rUFxQdM0BP"
      },
      "execution_count": null,
      "outputs": []
    },
    {
      "cell_type": "code",
      "source": [
        "Data['Aromaticity'] = pd.to_numeric(Data['Aromaticity'])\n",
        "Data['Molecular Weight'] = pd.to_numeric(Data['Molecular Weight'])\n",
        "Data['Instability Index'] = pd.to_numeric(Data['Instability Index'])\n",
        "Data['Hydrophobicity'] = pd.to_numeric(Data['Hydrophobicity'])\n",
        "Data['Isoelectric Point'] = pd.to_numeric(Data['Isoelectric Point'])\n",
        "Data['Charge'] = pd.to_numeric(Data['Charge'])"
      ],
      "metadata": {
        "id": "s0vgajyRM3xc"
      },
      "execution_count": null,
      "outputs": []
    },
    {
      "cell_type": "markdown",
      "source": [
        "We are done with protein sequence! So just drop it!"
      ],
      "metadata": {
        "id": "ZDHoN9tzM5vu"
      }
    },
    {
      "cell_type": "code",
      "source": [
        "Data.drop('protein_sequence', axis = 1, inplace = True)"
      ],
      "metadata": {
        "id": "offu6oMaM-Z_"
      },
      "execution_count": null,
      "outputs": []
    },
    {
      "cell_type": "markdown",
      "source": [
        "# Data spliting"
      ],
      "metadata": {
        "id": "gr5DEWZqNBj-"
      }
    },
    {
      "cell_type": "markdown",
      "source": [
        "* Training Data = 80% of dataset\n",
        "* Validation Data = 10% of dataset\n",
        "* Test Data = 10% of dataset"
      ],
      "metadata": {
        "id": "i6-Nmcl1NI0N"
      }
    },
    {
      "cell_type": "code",
      "source": [
        "train_df, rem_df = train_test_split(Data, train_size=0.8)\n",
        "\n",
        "val_df, test_df = train_test_split(rem_df, test_size=0.5)"
      ],
      "metadata": {
        "id": "MLwSTlgzNGmt"
      },
      "execution_count": null,
      "outputs": []
    },
    {
      "cell_type": "code",
      "source": [
        "X_train = train_df.drop(columns=['tm'])\n",
        "y_train = train_df['tm']\n",
        "\n",
        "X_val = val_df.drop(columns=['tm'])\n",
        "y_val = val_df['tm']\n",
        "\n",
        "X_test = test_df.drop(columns=['tm'])\n",
        "y_test = test_df['tm']"
      ],
      "metadata": {
        "id": "ySaHpOnjNb9G"
      },
      "execution_count": null,
      "outputs": []
    },
    {
      "cell_type": "markdown",
      "source": [
        "# Random Forest"
      ],
      "metadata": {
        "id": "bkxqZFtdNjiw"
      }
    },
    {
      "cell_type": "code",
      "source": [
        "model = RandomForestRegressor()"
      ],
      "metadata": {
        "id": "J0MC7V1lNlkX"
      },
      "execution_count": null,
      "outputs": []
    },
    {
      "cell_type": "markdown",
      "source": [
        "## Hyperparameter tuning"
      ],
      "metadata": {
        "id": "kTr_JMy9N80H"
      }
    },
    {
      "cell_type": "code",
      "source": [
        "params = {'n_estimators': list(np.arange(60, 510, 10)), 'max_depth': [5, 10, 15, 20, 25, 30, 35, 40]}\n",
        "\n",
        "HpTRF = GridSearchCV(model, params)\n",
        "\n",
        "HpTRF.fit(X_train, y_train)"
      ],
      "metadata": {
        "id": "Gp6yjMvZNqzE"
      },
      "execution_count": null,
      "outputs": []
    },
    {
      "cell_type": "markdown",
      "source": [
        "## Model training & prediction"
      ],
      "metadata": {
        "id": "XMschEAlOAwb"
      }
    },
    {
      "cell_type": "code",
      "source": [
        "model = RandomForestRegressor(n_estimators = HpTRF.best_params_['n_estimators'], max_depth = HpTRF.best_params_['max_depth'])\n",
        "\n",
        "model.fit(X_train, y_train)\n",
        "\n",
        "y_pred_train_RF = model.predict(X_train)\n",
        "y_pred_val_RF = model.predict(X_val)\n",
        "y_pred_test_RF = model.predict(X_test)"
      ],
      "metadata": {
        "id": "m4qwTdjkNwUa"
      },
      "execution_count": null,
      "outputs": []
    },
    {
      "cell_type": "markdown",
      "source": [
        "## Results"
      ],
      "metadata": {
        "id": "mh5Y2MFCOKm5"
      }
    },
    {
      "cell_type": "code",
      "source": [
        "mse_train_RF = mean_squared_error(y_train, y_pred_train_RF)\n",
        "mse_val_RF = mean_squared_error(y_val, y_pred_val_RF)\n",
        "mse_test_RF = mean_squared_error(y_test, y_pred_test_RF)\n",
        "print(\"Root Mean Squared error on Train data is:\",math.sqrt(mse_train_RF))\n",
        "print(\"Root Mean Squared error on Val data is:\",math.sqrt(mse_val_RF))"
      ],
      "metadata": {
        "id": "CPrYLLpsN8CB"
      },
      "execution_count": null,
      "outputs": []
    },
    {
      "cell_type": "code",
      "source": [
        "r2_train_RF = r2_score(y_train, y_pred_train_RF)\n",
        "r2_val_RF = r2_score(y_val, y_pred_val_RF)\n",
        "r2_test_RF = r2_score(y_test, y_pred_test_RF)\n",
        "print('r2 score for train is', r2_train_RF)\n",
        "print('r2 score for val is', r2_val_RF)\n",
        "print('r2 score for test is', r2_test_RF)"
      ],
      "metadata": {
        "id": "lTuUG14rOols"
      },
      "execution_count": null,
      "outputs": []
    },
    {
      "cell_type": "code",
      "source": [
        "print('Mean Absolute Error Train:', mean_absolute_error(y_train, y_pred_train_RF))\n",
        "print('Mean Absolute Error Val:', mean_absolute_error(y_val, y_pred_val_RF))\n",
        "print('Mean Absolute Error Test:', mean_absolute_error(y_test, y_pred_test_RF))"
      ],
      "metadata": {
        "id": "Ms51xmPFOv_6"
      },
      "execution_count": null,
      "outputs": []
    },
    {
      "cell_type": "code",
      "source": [
        "sns.residplot(x = y_test, y = y_pred_test_RF)"
      ],
      "metadata": {
        "id": "giMosZ3VO2Hy"
      },
      "execution_count": null,
      "outputs": []
    },
    {
      "cell_type": "code",
      "source": [
        "sns.regplot(x = y_test, y = y_pred_test_RF)"
      ],
      "metadata": {
        "id": "mAX_gMbjO3X7"
      },
      "execution_count": null,
      "outputs": []
    }
  ]
}