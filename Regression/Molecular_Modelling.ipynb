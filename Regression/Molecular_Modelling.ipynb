{
  "nbformat": 4,
  "nbformat_minor": 0,
  "metadata": {
    "colab": {
      "provenance": []
    },
    "kernelspec": {
      "name": "python3",
      "display_name": "Python 3"
    },
    "language_info": {
      "name": "python"
    }
  },
  "cells": [
    {
      "cell_type": "markdown",
      "source": [
        "# Importing required libraries"
      ],
      "metadata": {
        "id": "povJWotRGOpq"
      }
    },
    {
      "cell_type": "code",
      "execution_count": null,
      "metadata": {
        "id": "489gsgIFGLtk"
      },
      "outputs": [],
      "source": [
        "import pandas as pd\n",
        "import numpy as np\n",
        "import seaborn as sns\n",
        "import matplotlib.pyplot as plt\n",
        "from sklearn.model_selection import train_test_split, RandomizedSearchCV, GridSearchCV\n",
        "from sklearn.metrics import mean_absolute_error, mean_squared_error, r2_score\n",
        "from sklearn.feature_selection import RFECV\n",
        "import math\n",
        "from sklearn.ensemble import RandomForestRegressor"
      ]
    },
    {
      "cell_type": "markdown",
      "source": [
        "# Importing data"
      ],
      "metadata": {
        "id": "HXuVQB47IrU2"
      }
    },
    {
      "cell_type": "code",
      "source": [
        "data = pd.read_csv('Data.csv')\n",
        "data.head()"
      ],
      "metadata": {
        "id": "BCaBM0DuI7zJ"
      },
      "execution_count": null,
      "outputs": []
    },
    {
      "cell_type": "markdown",
      "source": [
        "#EDA"
      ],
      "metadata": {
        "id": "LZ1loVelJGvI"
      }
    },
    {
      "cell_type": "code",
      "source": [
        "Data.info()"
      ],
      "metadata": {
        "id": "nt7ly5rqJHmu"
      },
      "execution_count": null,
      "outputs": []
    },
    {
      "cell_type": "code",
      "source": [
        "Data.describe().T"
      ],
      "metadata": {
        "id": "ePIWLLi7JJWO"
      },
      "execution_count": null,
      "outputs": []
    },
    {
      "cell_type": "code",
      "source": [
        "Data.isnull().sum()"
      ],
      "metadata": {
        "id": "3E3hKxeXJLGp"
      },
      "execution_count": null,
      "outputs": []
    },
    {
      "cell_type": "markdown",
      "source": [
        "# Data spliting"
      ],
      "metadata": {
        "id": "gr5DEWZqNBj-"
      }
    },
    {
      "cell_type": "markdown",
      "source": [
        "* Training Data = 80% of dataset\n",
        "* Validation Data = 10% of dataset\n",
        "* Test Data = 10% of dataset"
      ],
      "metadata": {
        "id": "i6-Nmcl1NI0N"
      }
    },
    {
      "cell_type": "code",
      "source": [
        "train_df, rem_df = train_test_split(Data, train_size=0.8)\n",
        "\n",
        "val_df, test_df = train_test_split(rem_df, test_size=0.5)"
      ],
      "metadata": {
        "id": "MLwSTlgzNGmt"
      },
      "execution_count": null,
      "outputs": []
    },
    {
      "cell_type": "code",
      "source": [
        "X_train = train_df.drop(columns=['DG (298K)'])\n",
        "y_train = train_df['DG (298K)']\n",
        "\n",
        "X_val = val_df.drop(columns=['DG (298K)'])\n",
        "y_val = val_df['DG (298K)']\n",
        "\n",
        "X_test = test_df.drop(columns=['DG (298K)'])\n",
        "y_test = test_df['DG (298K)']"
      ],
      "metadata": {
        "id": "ySaHpOnjNb9G"
      },
      "execution_count": null,
      "outputs": []
    },
    {
      "cell_type": "markdown",
      "source": [
        "# Random Forest"
      ],
      "metadata": {
        "id": "bkxqZFtdNjiw"
      }
    },
    {
      "cell_type": "code",
      "source": [
        "model = RandomForestRegressor()"
      ],
      "metadata": {
        "id": "J0MC7V1lNlkX"
      },
      "execution_count": null,
      "outputs": []
    },
    {
      "cell_type": "markdown",
      "source": [
        "## Feature selection"
      ],
      "metadata": {
        "id": "FPNQgm291XBX"
      }
    },
    {
      "cell_type": "code",
      "source": [
        "rfecv = RFECV(estimator= model, step = 5, cv = 5, scoring='neg_mean_squared_error')\n",
        "rfecv = rfecv.fit(X_train, y_train)\n",
        "\n",
        "print(f'The optimal number of features:{rfecv.n_features_}')\n",
        "print(f'Selected features: {list(X_train.columns[rfecv.support_])}')\n",
        "best_features = list(X_train.columns[rfecv.support_])"
      ],
      "metadata": {
        "id": "Why23jXJ1Zw6"
      },
      "execution_count": null,
      "outputs": []
    },
    {
      "cell_type": "code",
      "source": [
        "X_train_new = X_train[best_features]\n",
        "X_val_new = X_val[best_features]\n",
        "X_test_new = X_test[best_features]"
      ],
      "metadata": {
        "id": "oMDU2eYL1u3-"
      },
      "execution_count": null,
      "outputs": []
    },
    {
      "cell_type": "markdown",
      "source": [
        "## Hyperparameter tuning"
      ],
      "metadata": {
        "id": "kTr_JMy9N80H"
      }
    },
    {
      "cell_type": "code",
      "source": [
        "params = {'n_estimators': list(np.arange(60, 510, 10)), 'max_depth': [5, 10, 15, 20, 25, 30, 35, 40]}\n",
        "\n",
        "HpTRF = GridSearchCV(model, params)\n",
        "\n",
        "HpTRF.fit(X_train, y_train)"
      ],
      "metadata": {
        "id": "Gp6yjMvZNqzE"
      },
      "execution_count": null,
      "outputs": []
    },
    {
      "cell_type": "markdown",
      "source": [
        "## Model training & prediction"
      ],
      "metadata": {
        "id": "XMschEAlOAwb"
      }
    },
    {
      "cell_type": "code",
      "source": [
        "model = RandomForestRegressor(n_estimators = HpTRF.best_params_['n_estimators'], max_depth = HpTRF.best_params_['max_depth'])\n",
        "\n",
        "model.fit(X_train, y_train)\n",
        "\n",
        "y_pred_train_RF = model.predict(X_train_new)\n",
        "y_pred_val_RF = model.predict(X_val_new)\n",
        "y_pred_test_RF = model.predict(X_test_new)"
      ],
      "metadata": {
        "id": "m4qwTdjkNwUa"
      },
      "execution_count": null,
      "outputs": []
    },
    {
      "cell_type": "markdown",
      "source": [
        "## Results"
      ],
      "metadata": {
        "id": "mh5Y2MFCOKm5"
      }
    },
    {
      "cell_type": "code",
      "source": [
        "mse_train_RF = mean_squared_error(y_train, y_pred_train_RF)\n",
        "mse_val_RF = mean_squared_error(y_val, y_pred_val_RF)\n",
        "mse_test_RF = mean_squared_error(y_test, y_pred_test_RF)\n",
        "print(\"Root Mean Squared error on Train data is:\",math.sqrt(mse_train_RF))\n",
        "print(\"Root Mean Squared error on Val data is:\",math.sqrt(mse_val_RF))"
      ],
      "metadata": {
        "id": "CPrYLLpsN8CB"
      },
      "execution_count": null,
      "outputs": []
    },
    {
      "cell_type": "code",
      "source": [
        "r2_train_RF = r2_score(y_train, y_pred_train_RF)\n",
        "r2_val_RF = r2_score(y_val, y_pred_val_RF)\n",
        "r2_test_RF = r2_score(y_test, y_pred_test_RF)\n",
        "print('r2 score for train is', r2_train_RF)\n",
        "print('r2 score for val is', r2_val_RF)\n",
        "print('r2 score for test is', r2_test_RF)"
      ],
      "metadata": {
        "id": "lTuUG14rOols"
      },
      "execution_count": null,
      "outputs": []
    },
    {
      "cell_type": "code",
      "source": [
        "print('Mean Absolute Error Train:', mean_absolute_error(y_train, y_pred_train_RF))\n",
        "print('Mean Absolute Error Val:', mean_absolute_error(y_val, y_pred_val_RF))\n",
        "print('Mean Absolute Error Test:', mean_absolute_error(y_test, y_pred_test_RF))"
      ],
      "metadata": {
        "id": "Ms51xmPFOv_6"
      },
      "execution_count": null,
      "outputs": []
    },
    {
      "cell_type": "code",
      "source": [
        "sns.residplot(x = y_test, y = y_pred_test_RF)"
      ],
      "metadata": {
        "id": "giMosZ3VO2Hy"
      },
      "execution_count": null,
      "outputs": []
    },
    {
      "cell_type": "code",
      "source": [
        "sns.regplot(x = y_test, y = y_pred_test_RF)"
      ],
      "metadata": {
        "id": "mAX_gMbjO3X7"
      },
      "execution_count": null,
      "outputs": []
    },
    {
      "cell_type": "markdown",
      "source": [
        "# MLP"
      ],
      "metadata": {
        "id": "k5qJyd722BiI"
      }
    },
    {
      "cell_type": "code",
      "source": [
        "from tensorflow.keras import activations, losses, optimizers\n",
        "from keras.layers import InputLayer, Dense\n",
        "from tensorflow.keras.models import Sequential\n",
        "import tensorflow as tf"
      ],
      "metadata": {
        "id": "InipSdCR2C3H"
      },
      "execution_count": null,
      "outputs": []
    },
    {
      "cell_type": "markdown",
      "source": [
        "## Model consctruction"
      ],
      "metadata": {
        "id": "sClpFdfD2V6u"
      }
    },
    {
      "cell_type": "code",
      "source": [
        "model = Sequential([\n",
        "    InputLayer(input_shape = (None, X_train_new.shape[1])),\n",
        "    Dense(units = 20),\n",
        "    Dense(units = 30),\n",
        "    Dense(units = 15),\n",
        "    Dense(units = 1, activation = 'linear')\n",
        "])\n",
        "\n",
        "model.compile(optimizer = keras.optimizers.experimental.Adam(0.1),\n",
        "                loss = tf.keras.losses.MeanSquaredError())"
      ],
      "metadata": {
        "id": "hIgm3dNZ2SDH"
      },
      "execution_count": null,
      "outputs": []
    },
    {
      "cell_type": "markdown",
      "source": [
        "## Model training & prediction"
      ],
      "metadata": {
        "id": "_F2xsUgq2Vcv"
      }
    },
    {
      "cell_type": "code",
      "source": [
        "model.fit(X_train_new, y_train, epochs = 500)\n",
        "\n",
        "y_pred_train_MLP = model.predict(X_train_new)\n",
        "y_pred_val_MLP = model.predict(X_val_new)\n",
        "y_pred_MLP = model.predict(X_test_new)"
      ],
      "metadata": {
        "id": "2Z-GvAx02cLD"
      },
      "execution_count": null,
      "outputs": []
    },
    {
      "cell_type": "markdown",
      "source": [
        "## Results"
      ],
      "metadata": {
        "id": "CkQ30DMc2lsm"
      }
    },
    {
      "cell_type": "code",
      "source": [
        "mse_train_MLP=mean_squared_error(y_train, y_pred_train_MLP)\n",
        "mse_val_MLP=mean_squared_error(y_val, y_pred_val_MLP)\n",
        "mse_test=mean_squared_error(y_test, y_pred_MLP)\n",
        "\n",
        "r2_train_MLP = r2_score(y_train, y_pred_train_MLP)\n",
        "r2_val_MLP = r2_score(y_val, y_pred_val_MLP)\n",
        "r2_test_MLP = r2_score(y_test, y_pred_MLP)\n",
        "\n",
        "print(\"Root Mean Squared error on Train data is:\",math.sqrt(mse_train_MLP))\n",
        "print(\"Root Mean Squared error on Val data is:\",math.sqrt(mse_val_MLP))\n",
        "print('r2 score for train is', r2_train_MLP)\n",
        "print('r2 score for val is', r2_val_MLP)\n",
        "print(\"Root Mean Squared error on Test data is:\",math.sqrt(mse_test))\n",
        "print('r2 score for test is', r2_test_MLP)"
      ],
      "metadata": {
        "id": "eSa6lovh2iFC"
      },
      "execution_count": null,
      "outputs": []
    },
    {
      "cell_type": "code",
      "source": [
        "sns.residplot(x = y_test, y = y_pred_MLP)"
      ],
      "metadata": {
        "id": "puCJcudR2w85"
      },
      "execution_count": null,
      "outputs": []
    },
    {
      "cell_type": "code",
      "source": [
        "sns.regplot(x = y_test, y = y_pred_MLP)"
      ],
      "metadata": {
        "id": "yUmw1KGH2z3K"
      },
      "execution_count": null,
      "outputs": []
    }
  ]
}